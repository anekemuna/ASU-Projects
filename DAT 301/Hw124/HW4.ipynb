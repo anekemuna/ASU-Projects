{
 "cells": [
  {
   "cell_type": "markdown",
   "metadata": {},
   "source": [
    "Before you turn this problem in, make sure everything runs as expected. First, **restart the kernel** (in the menubar, select Kernel$\\rightarrow$Restart) and then **run all cells** (in the menubar, select Cell$\\rightarrow$Run All).\n",
    "\n",
    "Make sure you fill in any place that says `YOUR CODE HERE` or \"YOUR ANSWER HERE\", as well as your name and collaborators below:"
   ]
  },
  {
   "cell_type": "code",
   "execution_count": 1,
   "metadata": {},
   "outputs": [],
   "source": [
    "NAME = \"Munachimso Aneke\"\n",
    "COLLABORATORS = \"\""
   ]
  },
  {
   "cell_type": "markdown",
   "metadata": {},
   "source": [
    "---"
   ]
  },
  {
   "cell_type": "markdown",
   "metadata": {
    "deletable": false,
    "editable": false,
    "nbgrader": {
     "cell_type": "markdown",
     "checksum": "36d5460cdb9202d2491590c4b6d85dfe",
     "grade": false,
     "grade_id": "cell-f931211903861075",
     "locked": true,
     "schema_version": 3,
     "solution": false,
     "task": false
    }
   },
   "source": [
    "# Homework 4"
   ]
  },
  {
   "cell_type": "markdown",
   "metadata": {
    "deletable": false,
    "editable": false,
    "nbgrader": {
     "cell_type": "markdown",
     "checksum": "729e1ff63aef308899f538a9bfcd5033",
     "grade": false,
     "grade_id": "cell-48c2db671d9d618e",
     "locked": true,
     "schema_version": 3,
     "solution": false,
     "task": false
    }
   },
   "source": [
    "## Question 1\n",
    "\n",
    "Create a dictionary in Python called `lotr` that lists: `'race': <count of characters with that race>` of the following characters in \"Lord of the Rings:\" <br>\n",
    "\n",
    "- Legolas (elf)\n",
    "- Haldir (elf)\n",
    "- Galadriel (elf)\n",
    "- Aragorn (human)\n",
    "- Boromir (human)\n",
    "- Faramir (human)\n",
    "- Eomer (human)\n",
    "- Eowyn (human)\n",
    "- Frodo (hobbit)\n",
    "- Sam (hobbit)\n",
    "- Merry (hobbit)\n",
    "- Pippin (hobbit"
   ]
  },
  {
   "cell_type": "code",
   "execution_count": 2,
   "metadata": {
    "deletable": false,
    "nbgrader": {
     "cell_type": "code",
     "checksum": "08902c26c868c409ee9988c60c0a6034",
     "grade": false,
     "grade_id": "cell-b5a249261ec2933e",
     "locked": false,
     "schema_version": 3,
     "solution": true,
     "task": false
    }
   },
   "outputs": [
    {
     "data": {
      "text/plain": [
       "{'elf': 3, 'human': 5, 'hobbit': 4}"
      ]
     },
     "execution_count": 2,
     "metadata": {},
     "output_type": "execute_result"
    }
   ],
   "source": [
    "# your code here\n",
    "# raise NotImplementedError\n",
    "lotr = {'elf': 3, 'human':5, 'hobbit': 4}\n",
    "lotr"
   ]
  },
  {
   "cell_type": "code",
   "execution_count": 3,
   "metadata": {
    "deletable": false,
    "editable": false,
    "nbgrader": {
     "cell_type": "code",
     "checksum": "aab20db5a72d70759b4c55188373ecef",
     "grade": true,
     "grade_id": "cell-2506f5830af69406",
     "locked": true,
     "points": 2,
     "schema_version": 3,
     "solution": false,
     "task": false
    }
   },
   "outputs": [],
   "source": [
    "## question 1 - check whether lotr was created and is a dict type\n",
    "assert type(lotr) == dict\n",
    "assert lotr['elf'] == 3"
   ]
  },
  {
   "cell_type": "code",
   "execution_count": null,
   "metadata": {
    "deletable": false,
    "editable": false,
    "nbgrader": {
     "cell_type": "code",
     "checksum": "6fac3a68a3cb6d0ad80e4af5d8e8f314",
     "grade": true,
     "grade_id": "cell-0ce3e5d53d11cdaf",
     "locked": true,
     "points": 2,
     "schema_version": 3,
     "solution": false,
     "task": false
    }
   },
   "outputs": [],
   "source": []
  },
  {
   "cell_type": "markdown",
   "metadata": {
    "deletable": false,
    "editable": false,
    "nbgrader": {
     "cell_type": "markdown",
     "checksum": "8d2cb2ba24f69b239ef441fd80d22185",
     "grade": false,
     "grade_id": "cell-e7979983c06c928a",
     "locked": true,
     "schema_version": 3,
     "solution": false,
     "task": false
    }
   },
   "source": [
    "## Question 2\n",
    "Create a function `intgr(n)` that returns if an inputted value `n` is an integer or not.  <br>\n",
    "\n",
    "For example: <br>\n",
    "if you input `intgr(5.6)` the output should be `non-integer` <br>\n",
    "if you input `intgr(6)` the output should be `integer`."
   ]
  },
  {
   "cell_type": "code",
   "execution_count": 4,
   "metadata": {
    "deletable": false,
    "nbgrader": {
     "cell_type": "code",
     "checksum": "c45ad4fe6f87b5f828777155d4af7a29",
     "grade": false,
     "grade_id": "cell-edb5ab58f3912501",
     "locked": false,
     "schema_version": 3,
     "solution": true,
     "task": false
    }
   },
   "outputs": [],
   "source": [
    "# your code here\n",
    "# raise NotImplementedError\n",
    "def intgr(n):\n",
    "    if isinstance(n,int):\n",
    "        c = \"integer\"\n",
    "    else: \n",
    "        c = \"non-integer\"\n",
    "    return(c)\n",
    "\n",
    "intgr(5.6)\n",
    "#intgr(6)"
   ]
  },
  {
   "cell_type": "code",
   "execution_count": 5,
   "metadata": {
    "deletable": false,
    "editable": false,
    "nbgrader": {
     "cell_type": "code",
     "checksum": "70efcfa5644c2094111e1fc507e55bae",
     "grade": true,
     "grade_id": "cell-e674f5ea70fb7460",
     "locked": true,
     "points": 2,
     "schema_version": 3,
     "solution": false,
     "task": false
    }
   },
   "outputs": [],
   "source": [
    "## question 2 - check whether intgr was created and outputs match expectations\n",
    "assert type(intgr(6)) == str"
   ]
  },
  {
   "cell_type": "code",
   "execution_count": null,
   "metadata": {
    "deletable": false,
    "editable": false,
    "nbgrader": {
     "cell_type": "code",
     "checksum": "12ca0eefb31396b2eb7c71b629289121",
     "grade": true,
     "grade_id": "cell-f75b32e0c8a7f502",
     "locked": true,
     "points": 2,
     "schema_version": 3,
     "solution": false,
     "task": false
    }
   },
   "outputs": [],
   "source": []
  },
  {
   "cell_type": "markdown",
   "metadata": {
    "deletable": false,
    "editable": false,
    "nbgrader": {
     "cell_type": "markdown",
     "checksum": "a56e38405c7b146a7f07655b60c0431b",
     "grade": false,
     "grade_id": "cell-3c69f50eb6fa7bc4",
     "locked": true,
     "schema_version": 3,
     "solution": false,
     "task": false
    }
   },
   "source": [
    "## Question 3\n",
    "Write a function `mirror(s)` that returns a mirrored version of the string (`s`) (i.e., the string concatenated with the string in reverse).\n",
    "<br>\n",
    "Examples: <br>\n",
    "`mirror('1')` returns `'11'` <br>\n",
    "`mirror('RaInBoW')` returns `'RaInBoWWoBnIaR'` <br>\n",
    "`mirror('Aa')` returns `'AaaA'` <br>\n",
    "`mirror('orange')` returns `'orangeegnaro'` <br>"
   ]
  },
  {
   "cell_type": "code",
   "execution_count": 6,
   "metadata": {
    "deletable": false,
    "nbgrader": {
     "cell_type": "code",
     "checksum": "a156c2d8f2b6b85d26a6c9e3e0502308",
     "grade": false,
     "grade_id": "cell-95d76d9e4df725db",
     "locked": false,
     "schema_version": 3,
     "solution": true,
     "task": false
    }
   },
   "outputs": [
    {
     "data": {
      "text/plain": [
       "'RaInBoWWoBnIaR'"
      ]
     },
     "execution_count": 6,
     "metadata": {},
     "output_type": "execute_result"
    }
   ],
   "source": [
    "# your code here\n",
    "# raise NotImplementedError\n",
    "def mirror(s):\n",
    "    c = s[:]\n",
    "    for i in range(len(s)):\n",
    "        c = c+s[len(s)-1-i]\n",
    "    return(c)\n",
    "\n",
    "mirror('RaInBoW')"
   ]
  },
  {
   "cell_type": "code",
   "execution_count": 7,
   "metadata": {
    "deletable": false,
    "editable": false,
    "nbgrader": {
     "cell_type": "code",
     "checksum": "cf9a0395b74d7af07875e78eb86debaa",
     "grade": true,
     "grade_id": "cell-e3be9874e269b4c3",
     "locked": true,
     "points": 2,
     "schema_version": 3,
     "solution": false,
     "task": false
    }
   },
   "outputs": [],
   "source": [
    "## question 3 - check whether mirror was created and if mirror(1) returns str type\n",
    "assert type(mirror('1')) == str"
   ]
  },
  {
   "cell_type": "code",
   "execution_count": null,
   "metadata": {
    "deletable": false,
    "editable": false,
    "nbgrader": {
     "cell_type": "code",
     "checksum": "037ce79e423031466af4c72c0adb8e11",
     "grade": true,
     "grade_id": "cell-f4afb69a1ebde960",
     "locked": true,
     "points": 2,
     "schema_version": 3,
     "solution": false,
     "task": false
    }
   },
   "outputs": [],
   "source": []
  },
  {
   "cell_type": "markdown",
   "metadata": {
    "deletable": false,
    "editable": false,
    "nbgrader": {
     "cell_type": "markdown",
     "checksum": "efebf10bdad8f9f2e6c75ebab1551644",
     "grade": false,
     "grade_id": "cell-cd09c65a31af0821",
     "locked": true,
     "schema_version": 3,
     "solution": false,
     "task": false
    }
   },
   "source": [
    "## Question 4\n",
    "Create a function, `numlist(x, y)`, that returns a list of all of the integers between integer `x` and integer `y` inclusive.  The function should return `number 1 must be smaller than number 2` if `x` > `y`.  The function should return `x and y are both not integers` if either `x` or `y` are not integers.\n",
    "\n",
    "For example: <br>\n",
    "`numlist(2, 5)` will return `[2, 3, 4, 5]` <br>\n",
    "`numlist(5, 2)` will return `number 1 must be smaller than number 2` <br>\n",
    "`numlist(2.3, 4)` will return `x and y are both not integers`"
   ]
  },
  {
   "cell_type": "code",
   "execution_count": 8,
   "metadata": {
    "deletable": false,
    "nbgrader": {
     "cell_type": "code",
     "checksum": "6df27dc76c71cd62f9390e766844b617",
     "grade": false,
     "grade_id": "cell-0d1f2ae2d9989d25",
     "locked": false,
     "schema_version": 3,
     "solution": true,
     "task": false
    }
   },
   "outputs": [
    {
     "data": {
      "text/plain": [
       "'[2]'"
      ]
     },
     "execution_count": 8,
     "metadata": {},
     "output_type": "execute_result"
    }
   ],
   "source": [
    "# your code here\n",
    "# raise NotImplementedError\n",
    "def numlist(x,y):\n",
    "    if type(x) != int or type(y) != int:\n",
    "        c = \"x and y are both not integers\"\n",
    "    elif x > y:\n",
    "        c = \"number 1 must be smaller than number 2\"\n",
    "    else:\n",
    "        c = str(list(range(x,y+1)))\n",
    "    return(c)\n",
    "\n",
    "numlist(2, 8)"
   ]
  },
  {
   "cell_type": "code",
   "execution_count": 9,
   "metadata": {
    "deletable": false,
    "editable": false,
    "nbgrader": {
     "cell_type": "code",
     "checksum": "6cc1009ffa252700bc3d3af9406deb05",
     "grade": true,
     "grade_id": "cell-7d3dd358972d8e2b",
     "locked": true,
     "points": 2,
     "schema_version": 3,
     "solution": false,
     "task": false
    }
   },
   "outputs": [],
   "source": [
    "## Question 4 - check that numlist was created and that numlist(2.3, 4) return a str type\n",
    "assert type(numlist(2.3, 4)) == str"
   ]
  },
  {
   "cell_type": "code",
   "execution_count": null,
   "metadata": {
    "deletable": false,
    "editable": false,
    "nbgrader": {
     "cell_type": "code",
     "checksum": "a1a267d8d45f5b6002e0f92d272cda86",
     "grade": true,
     "grade_id": "cell-4c3520c383b0f7e3",
     "locked": true,
     "points": 2,
     "schema_version": 3,
     "solution": false,
     "task": false
    }
   },
   "outputs": [],
   "source": []
  },
  {
   "cell_type": "markdown",
   "metadata": {
    "deletable": false,
    "editable": false,
    "nbgrader": {
     "cell_type": "markdown",
     "checksum": "417a72ce231441a06796a46547503c12",
     "grade": false,
     "grade_id": "cell-359defef68a03062",
     "locked": true,
     "schema_version": 3,
     "solution": false,
     "task": false
    }
   },
   "source": [
    "## Question 5\n",
    "Write a function `name(s)` that takes in a full name `s` formatted as the string `Last, First` and output the name formatted as the string `First Last`.  If the inputted string does not contain a comma, return the inputted string. If the inputted string does not contain a space, add a space in the output. <br>\n",
    "<br>\n",
    "For example: <br>\n",
    "`name('Smith, Joe')` returns `'Joe Smith'` <br>\n",
    "`name('Arnold, Benedict')` returns `'Benedict Arnold'` <br>\n",
    "`name('Johnson Jr., Sara')` returns `'Sara Johnson Jr.'` <br>\n",
    "`name('Gerald')` returns `'Gerald'` <br>\n",
    "`name('Griffin,Stephanie')` returns `'Stephanie Griffin'`"
   ]
  },
  {
   "cell_type": "code",
   "execution_count": 20,
   "metadata": {},
   "outputs": [
    {
     "name": "stdout",
     "output_type": "stream",
     "text": [
      "True\n",
      "True\n"
     ]
    },
    {
     "data": {
      "text/plain": [
       "' Joe Smith'"
      ]
     },
     "execution_count": 20,
     "metadata": {},
     "output_type": "execute_result"
    }
   ],
   "source": [
    "s1 = 'Smith, Joe'\n",
    "s2 = 'Johnson Jr., Sara'\n",
    "s3 = 'Gerald'\n",
    "s4 = 'Griffin,Stephanie'\n",
    "s5 = 'Arnold, Benedict'\n",
    "\n",
    "if ',' in s1:\n",
    "    print(\"True\")\n",
    "\n",
    "if ',' in s2:\n",
    "    print(\"True\")\n",
    "\n",
    "if ',' in s3:\n",
    "    print(\"True\")\n",
    "    \n",
    "\n",
    "c = s.split(',')\n",
    "d = c[-1] + \" \" + c[0]\n",
    "d"
   ]
  },
  {
   "cell_type": "code",
   "execution_count": 33,
   "metadata": {
    "deletable": false,
    "nbgrader": {
     "cell_type": "code",
     "checksum": "1db1d03138855c0e734f4c68ada9203a",
     "grade": false,
     "grade_id": "cell-0a718c50cc698675",
     "locked": false,
     "schema_version": 3,
     "solution": true,
     "task": false
    }
   },
   "outputs": [
    {
     "name": "stdout",
     "output_type": "stream",
     "text": [
      "Joe Smith\n",
      "Sara Johnson Jr.\n",
      "Gerald\n",
      "Stephanie Griffin\n"
     ]
    }
   ],
   "source": [
    "# your code here\n",
    "# raise NotImplementedError\n",
    "def name(s):\n",
    "    if ',' in s: # commas = true\n",
    "        c1 = s.split(',')\n",
    "\n",
    "        if ' ' in c1[1]: # if there's a space before the first name\n",
    "            c2 = c1[1].split(' ')[1] # take the first name\n",
    "        else:\n",
    "            c2 = c1[1][:]\n",
    "\n",
    "        c = c2 + \" \" + c1[0]\n",
    "    else:  # no commas\n",
    "        c = s\n",
    "    return(c)\n",
    "\n",
    "print(name('Smith, Joe'))\n",
    "print(name('Johnson Jr., Sara'))\n",
    "print(name('Gerald'))\n",
    "print(name('Griffin,Stephanie'))"
   ]
  },
  {
   "cell_type": "code",
   "execution_count": 34,
   "metadata": {
    "deletable": false,
    "editable": false,
    "nbgrader": {
     "cell_type": "code",
     "checksum": "8ec5e652469b8cd3993d17b94d7c224b",
     "grade": true,
     "grade_id": "cell-03ef629409933723",
     "locked": true,
     "points": 2,
     "schema_version": 3,
     "solution": false,
     "task": false
    }
   },
   "outputs": [],
   "source": [
    "## Question 5 - check to see if name was created and returns a str type\n",
    "assert type(name('Arold, Benedict')) == str"
   ]
  },
  {
   "cell_type": "code",
   "execution_count": null,
   "metadata": {
    "deletable": false,
    "editable": false,
    "nbgrader": {
     "cell_type": "code",
     "checksum": "1aa2b145eb1b9be19fb402c2bfb40a29",
     "grade": true,
     "grade_id": "cell-bc2692e7579c5798",
     "locked": true,
     "points": 3,
     "schema_version": 3,
     "solution": false,
     "task": false
    }
   },
   "outputs": [],
   "source": []
  },
  {
   "cell_type": "markdown",
   "metadata": {
    "deletable": false,
    "editable": false,
    "nbgrader": {
     "cell_type": "markdown",
     "checksum": "f510cf4d9bad2e5d2d73f36fe49b75c1",
     "grade": false,
     "grade_id": "cell-298758ad1d287a3f",
     "locked": true,
     "schema_version": 3,
     "solution": false,
     "task": false
    }
   },
   "source": [
    "## Question 6\n",
    "Write a function `concat(s1, s2)` that contactonates two strings with the longer string first.\n",
    "If `s1` and `s2` strings are the same length `concat` will return `s1s2`.\n",
    "\n",
    "<br>\n",
    "For example: <br>\n",
    "`concat('cat', 'dog')` returns `catdog` <br>\n",
    "`concat('cat', 'dogs')` returns `dogscat` <br>\n",
    "`concat('123', '45')` returns `12345` <br>"
   ]
  },
  {
   "cell_type": "code",
   "execution_count": 39,
   "metadata": {
    "deletable": false,
    "nbgrader": {
     "cell_type": "code",
     "checksum": "75d2f1e7413b6d96e0dfd144fd9f56ee",
     "grade": false,
     "grade_id": "cell-e2146eb089f01bed",
     "locked": false,
     "schema_version": 3,
     "solution": true,
     "task": false
    }
   },
   "outputs": [
    {
     "name": "stdout",
     "output_type": "stream",
     "text": [
      "catdog\n",
      "dogscat\n",
      "12345\n"
     ]
    },
    {
     "data": {
      "text/plain": [
       "'34'"
      ]
     },
     "execution_count": 39,
     "metadata": {},
     "output_type": "execute_result"
    }
   ],
   "source": [
    "# your code here\n",
    "# raise NotImplementedError\n",
    "\n",
    "# longer version of concat()\n",
    "\"\"\"\n",
    "def concat(s1, s2):\n",
    "    if len(s1) > len(s2):\n",
    "        c = s1 + s2\n",
    "    elif len(s1) < len(s2):\n",
    "        c = s2 + s1\n",
    "    else:\n",
    "        c = s1 + s2\n",
    "    return(c)\n",
    "\"\"\"\n",
    "\n",
    "# shorter version of concat()\n",
    "def concat(s1, s2):\n",
    "    if len(s1) < len(s2):\n",
    "        c = s2 + s1\n",
    "    else: # if len(s1) >= len(s2)\n",
    "        c = s1 + s2\n",
    "    return(c)\n",
    "\n",
    "print(concat('cat', 'dog'))\n",
    "print(concat('cat', 'dogs'))\n",
    "print(concat('123', '45'))"
   ]
  },
  {
   "cell_type": "code",
   "execution_count": 40,
   "metadata": {
    "deletable": false,
    "editable": false,
    "nbgrader": {
     "cell_type": "code",
     "checksum": "ccb8b11683a5bef0e3157f8d606576e9",
     "grade": true,
     "grade_id": "cell-7ea4474f90cfc9c3",
     "locked": true,
     "points": 2,
     "schema_version": 3,
     "solution": false,
     "task": false
    }
   },
   "outputs": [],
   "source": [
    "## Question 6 - check to see if concat was created and returns a str\n",
    "assert type(concat('3', '4')) == str"
   ]
  },
  {
   "cell_type": "code",
   "execution_count": null,
   "metadata": {
    "deletable": false,
    "editable": false,
    "nbgrader": {
     "cell_type": "code",
     "checksum": "b037e94104e803d67bf26f4b11ae775e",
     "grade": true,
     "grade_id": "cell-dd5fd7f43ed0f332",
     "locked": true,
     "points": 3,
     "schema_version": 3,
     "solution": false,
     "task": false
    }
   },
   "outputs": [],
   "source": []
  },
  {
   "cell_type": "markdown",
   "metadata": {
    "deletable": false,
    "editable": false,
    "nbgrader": {
     "cell_type": "markdown",
     "checksum": "2d09f456dde7d95510f6c9e03db29b97",
     "grade": false,
     "grade_id": "cell-470328e8835cb9d8",
     "locked": true,
     "schema_version": 3,
     "solution": false,
     "task": false
    }
   },
   "source": [
    "## Question 7\n",
    "Write a function `chrctr(s, n, c)` that returns \"True\" if the `n`th character in the string `s` is equal to `c`.  If `n` is a number larger than the length of the character string `s`, return \"False\".\n",
    "\n",
    "Parameters: <br>\n",
    "- `s` is a character string <br>\n",
    "- `n` is an integer <br>\n",
    "- `c` is a character string <br>\n",
    "\n",
    "For example: <br>\n",
    "`chrctr('cat', 2, 'a')` returns `True` <br>\n",
    "`chrctr('1234', 4, '5')` returns `False` <br>\n",
    "`chrctr('1234', 7, '4')` returns `False` <br>"
   ]
  },
  {
   "cell_type": "code",
   "execution_count": 48,
   "metadata": {
    "deletable": false,
    "nbgrader": {
     "cell_type": "code",
     "checksum": "234f38bc605d5ef02e9194c36b68a359",
     "grade": false,
     "grade_id": "cell-dfcf64ae9655fcd6",
     "locked": false,
     "schema_version": 3,
     "solution": true,
     "task": false
    }
   },
   "outputs": [
    {
     "data": {
      "text/plain": [
       "True"
      ]
     },
     "execution_count": 48,
     "metadata": {},
     "output_type": "execute_result"
    }
   ],
   "source": [
    "# your code here\n",
    "# raise NotImplementedError\n",
    "\n",
    "def chrctr(s, n, c):\n",
    "    if n> len(s):\n",
    "        return False\n",
    "    else:\n",
    "        if s[n-1] == c:\n",
    "            return True\n",
    "        else:\n",
    "            return False\n",
    "\n",
    "chrctr('cat', 2, 'a')\n",
    "#chrctr('1234', 4, '5')\n",
    "#chrctr('1234', 7, '4')"
   ]
  },
  {
   "cell_type": "code",
   "execution_count": 45,
   "metadata": {
    "deletable": false,
    "editable": false,
    "nbgrader": {
     "cell_type": "code",
     "checksum": "dfe63a14e745d6accb72128cb844c802",
     "grade": true,
     "grade_id": "cell-7bd6b124e1b6be54",
     "locked": true,
     "points": 2,
     "schema_version": 3,
     "solution": false,
     "task": false
    }
   },
   "outputs": [],
   "source": [
    "## Question 7 - check to see if chrctr was created and returns bool type\n",
    "assert type(chrctr('cat', 2, 'a')) == bool"
   ]
  },
  {
   "cell_type": "code",
   "execution_count": null,
   "metadata": {
    "deletable": false,
    "editable": false,
    "nbgrader": {
     "cell_type": "code",
     "checksum": "4c511b73940e14605950b6468292c5c6",
     "grade": true,
     "grade_id": "cell-087b489860322cff",
     "locked": true,
     "points": 3,
     "schema_version": 3,
     "solution": false,
     "task": false
    }
   },
   "outputs": [],
   "source": []
  },
  {
   "cell_type": "markdown",
   "metadata": {
    "deletable": false,
    "editable": false,
    "nbgrader": {
     "cell_type": "markdown",
     "checksum": "4b9c62697126c075586e2da5827c2c0a",
     "grade": false,
     "grade_id": "cell-c6cfdae62b8ec58f",
     "locked": true,
     "schema_version": 3,
     "solution": false,
     "task": false
    }
   },
   "source": [
    "## Question 8A\n",
    "\n",
    "Set `bln` equal to a number that when you cast `bln` as a Boolean the response would be `False`."
   ]
  },
  {
   "cell_type": "code",
   "execution_count": 55,
   "metadata": {
    "deletable": false,
    "nbgrader": {
     "cell_type": "code",
     "checksum": "c60e63dcfb2e97e28900408831918a21",
     "grade": false,
     "grade_id": "cell-3d2e1ea5bf197f8c",
     "locked": false,
     "schema_version": 3,
     "solution": true,
     "task": false
    }
   },
   "outputs": [
    {
     "data": {
      "text/plain": [
       "False"
      ]
     },
     "execution_count": 55,
     "metadata": {},
     "output_type": "execute_result"
    }
   ],
   "source": [
    "# your code here\n",
    "# raise NotImplementedError\n",
    "bln = 0\n",
    "bool(bln)"
   ]
  },
  {
   "cell_type": "code",
   "execution_count": 56,
   "metadata": {
    "deletable": false,
    "editable": false,
    "nbgrader": {
     "cell_type": "code",
     "checksum": "a1f037bd8785dd1d92298977edd13e43",
     "grade": true,
     "grade_id": "cell-312ff1c6dae63fc8",
     "locked": true,
     "points": 2,
     "schema_version": 3,
     "solution": false,
     "task": false
    }
   },
   "outputs": [],
   "source": [
    "## Question 8a - check to see if bln was created and is an int value\n",
    "assert type(bln) == int"
   ]
  },
  {
   "cell_type": "code",
   "execution_count": null,
   "metadata": {
    "deletable": false,
    "editable": false,
    "nbgrader": {
     "cell_type": "code",
     "checksum": "df9bf51760122085b9e504770f653c16",
     "grade": true,
     "grade_id": "cell-6d7d0579b5dc4543",
     "locked": true,
     "points": 2,
     "schema_version": 3,
     "solution": false,
     "task": false
    }
   },
   "outputs": [],
   "source": []
  },
  {
   "cell_type": "markdown",
   "metadata": {
    "deletable": false,
    "editable": false,
    "nbgrader": {
     "cell_type": "markdown",
     "checksum": "d7a447abfeeb16a427605e0876b682d0",
     "grade": false,
     "grade_id": "cell-c3b5178175bdb890",
     "locked": true,
     "schema_version": 3,
     "solution": false,
     "task": false
    }
   },
   "source": [
    "## Question 8B\n",
    "Create a new list, `L3` that is the following two lists concatonated: <br>\n",
    "  L1 = [2, 4, 6, 8] <br>\n",
    "  L2 = [\"Star\", \"Hexagon\"] <br>\n",
    "And then append the name \"Asterisk\" between \"Star\" and \"Hexagon\" in the list."
   ]
  },
  {
   "cell_type": "code",
   "execution_count": 69,
   "metadata": {
    "deletable": false,
    "nbgrader": {
     "cell_type": "code",
     "checksum": "676d1374da80b82015653d931114eb97",
     "grade": false,
     "grade_id": "cell-c3acd3eee7a6657e",
     "locked": false,
     "schema_version": 3,
     "solution": true,
     "task": false
    }
   },
   "outputs": [
    {
     "data": {
      "text/plain": [
       "[2, 4, 6, 8, 'Star', 'Asterisk', 'Hexagon']"
      ]
     },
     "execution_count": 69,
     "metadata": {},
     "output_type": "execute_result"
    }
   ],
   "source": [
    "# your code here\n",
    "# raise NotImplementedError\n",
    "L1 = [2, 4, 6, 8]\n",
    "L2 = [\"Star\", \"Hexagon\"]\n",
    "L3 = L1 + L2\n",
    "L3.insert(5, \"Asterisk\")\n",
    "L3"
   ]
  },
  {
   "cell_type": "code",
   "execution_count": 70,
   "metadata": {
    "deletable": false,
    "editable": false,
    "nbgrader": {
     "cell_type": "code",
     "checksum": "47aaff9bbd81f64bc8e8b6ece8618046",
     "grade": true,
     "grade_id": "cell-0cd4a639ea1c989a",
     "locked": true,
     "points": 2,
     "schema_version": 3,
     "solution": false,
     "task": false
    }
   },
   "outputs": [],
   "source": [
    "## Question 8b - check to see if L3 was created and is length 7\n",
    "assert len(L3) == 7"
   ]
  },
  {
   "cell_type": "code",
   "execution_count": null,
   "metadata": {
    "deletable": false,
    "editable": false,
    "nbgrader": {
     "cell_type": "code",
     "checksum": "f25b1ea5ca6fbb6d4aa701d4e4ac5427",
     "grade": true,
     "grade_id": "cell-fd9afe22ac7d9647",
     "locked": true,
     "points": 2,
     "schema_version": 3,
     "solution": false,
     "task": false
    }
   },
   "outputs": [],
   "source": []
  },
  {
   "cell_type": "markdown",
   "metadata": {
    "deletable": false,
    "editable": false,
    "nbgrader": {
     "cell_type": "markdown",
     "checksum": "37dd76129d4a15fead48cc0957765e2f",
     "grade": false,
     "grade_id": "cell-bc5a5838a4747a12",
     "locked": true,
     "schema_version": 3,
     "solution": false,
     "task": false
    }
   },
   "source": [
    "## Question 9\n",
    "\n",
    "Create a function called `greet(a, b)`.  For two variables, `a` and `b`, return \"Hello World\" if `a` is greater than `b` else return \"Goodbye World\" ."
   ]
  },
  {
   "cell_type": "code",
   "execution_count": 72,
   "metadata": {
    "deletable": false,
    "nbgrader": {
     "cell_type": "code",
     "checksum": "ce606ffb44dab04fdf1248da3afb212a",
     "grade": false,
     "grade_id": "cell-8abe3634d2c227d3",
     "locked": false,
     "schema_version": 3,
     "solution": true,
     "task": false
    }
   },
   "outputs": [
    {
     "data": {
      "text/plain": [
       "'Hello World'"
      ]
     },
     "execution_count": 72,
     "metadata": {},
     "output_type": "execute_result"
    }
   ],
   "source": [
    "# your code here\n",
    "# raise NotImplementedError\n",
    "def greet(a,b):\n",
    "    if a > b:\n",
    "        c = \"Hello World\"\n",
    "    else:\n",
    "        c = \"Goodbye World\"\n",
    "    return(c)\n",
    "\n",
    "# greet(2, 3)\n",
    "greet(5, 3)"
   ]
  },
  {
   "cell_type": "code",
   "execution_count": 73,
   "metadata": {
    "deletable": false,
    "editable": false,
    "nbgrader": {
     "cell_type": "code",
     "checksum": "e48faaa0cfb4919ec558bbb2d3792b87",
     "grade": true,
     "grade_id": "cell-17bcdec4bb80055c",
     "locked": true,
     "points": 2,
     "schema_version": 3,
     "solution": false,
     "task": false
    }
   },
   "outputs": [],
   "source": [
    "## Question 9 - check to see if greet was created and is type str\n",
    "assert type(greet(2, 3)) == str"
   ]
  },
  {
   "cell_type": "code",
   "execution_count": null,
   "metadata": {
    "deletable": false,
    "editable": false,
    "nbgrader": {
     "cell_type": "code",
     "checksum": "aa3b6cef26e2f934f30782c2e51a93f9",
     "grade": true,
     "grade_id": "cell-f10ba0e12e666066",
     "locked": true,
     "points": 2,
     "schema_version": 3,
     "solution": false,
     "task": false
    }
   },
   "outputs": [],
   "source": []
  },
  {
   "cell_type": "markdown",
   "metadata": {
    "deletable": false,
    "editable": false,
    "nbgrader": {
     "cell_type": "markdown",
     "checksum": "082ae1e8848af0da7e1d1dc1c15017a0",
     "grade": false,
     "grade_id": "cell-02a3e2dd90a5aa2d",
     "locked": true,
     "schema_version": 3,
     "solution": false,
     "task": false
    }
   },
   "source": [
    "## Question 10\n",
    "Create a function `funr(rang, num)` that will return 0 if the number `num` is not in the range `rang` and 1 if the number `num` is in the range `rang`.\n",
    "<br>\n",
    "Ex: <br>\n",
    "`rang` = `range(2, 20, 3)`, `num` = `4`, `funr(rang, num)` = `0` <br>\n",
    "`rang` = `range(2, 20, 3)`, `num` = `5`, `funr(rang, num)` = `1`"
   ]
  },
  {
   "cell_type": "code",
   "execution_count": 83,
   "metadata": {
    "deletable": false,
    "nbgrader": {
     "cell_type": "code",
     "checksum": "f0917c364f8f7c9951ff7bac834a1420",
     "grade": false,
     "grade_id": "cell-d0baf5b61f6fbe0e",
     "locked": false,
     "schema_version": 3,
     "solution": true,
     "task": false
    }
   },
   "outputs": [
    {
     "data": {
      "text/plain": [
       "1"
      ]
     },
     "execution_count": 83,
     "metadata": {},
     "output_type": "execute_result"
    }
   ],
   "source": [
    "# your code here\n",
    "# raise NotImplementedError\n",
    "\n",
    "def funr(rang, num):\n",
    "    if num in list(rang):\n",
    "        c = 1\n",
    "    else:\n",
    "        c = 0\n",
    "    return(c)\n",
    "\n",
    "rang = range(2, 20, 3)\n",
    "#num = 5\n",
    "num = 4\n",
    "funr(rang, num)"
   ]
  },
  {
   "cell_type": "code",
   "execution_count": 86,
   "metadata": {
    "deletable": false,
    "editable": false,
    "nbgrader": {
     "cell_type": "code",
     "checksum": "dac37d54a27b378401c348e81cb30e11",
     "grade": true,
     "grade_id": "cell-63900600ed3dcfe7",
     "locked": true,
     "points": 2,
     "schema_version": 3,
     "solution": false,
     "task": false
    }
   },
   "outputs": [
    {
     "data": {
      "text/plain": [
       "True"
      ]
     },
     "execution_count": 86,
     "metadata": {},
     "output_type": "execute_result"
    }
   ],
   "source": [
    "## Question 10 - check to see if funr was created and funr() returns int\n",
    "\n",
    "rang = range(2, 20, 3)\n",
    "num = 4\n",
    "\n",
    "type(funr(rang, num)) == int"
   ]
  },
  {
   "cell_type": "code",
   "execution_count": null,
   "metadata": {
    "deletable": false,
    "editable": false,
    "nbgrader": {
     "cell_type": "code",
     "checksum": "4bcce90a99f4c4d0058ebc55275dbf8d",
     "grade": true,
     "grade_id": "cell-ae696809f9d75a80",
     "locked": true,
     "points": 2,
     "schema_version": 3,
     "solution": false,
     "task": false
    }
   },
   "outputs": [],
   "source": []
  },
  {
   "cell_type": "markdown",
   "metadata": {
    "deletable": false,
    "editable": false,
    "nbgrader": {
     "cell_type": "markdown",
     "checksum": "4ffd5b061e0313d6620b13194151999a",
     "grade": false,
     "grade_id": "cell-6ca15bf580026980",
     "locked": true,
     "schema_version": 3,
     "solution": false,
     "task": false
    }
   },
   "source": [
    "## Question 11\n",
    "\n",
    "Which keyword indicates an anonymous function? <br>\n",
    "\n",
    "a. None <br>\n",
    "b. anon <br>\n",
    "c. global <br>\n",
    "d. lambda <br>\n",
    "e. theta <br>\n",
    "\n",
    "Answer by naming `ans = \" \"` with correct letter in quotes.  `ans` should be a `str` type."
   ]
  },
  {
   "cell_type": "code",
   "execution_count": 84,
   "metadata": {
    "deletable": false,
    "nbgrader": {
     "cell_type": "code",
     "checksum": "107258b185a516d304f9e7526fdc3da2",
     "grade": false,
     "grade_id": "cell-b4265d3f154883ab",
     "locked": false,
     "schema_version": 3,
     "solution": true,
     "task": false
    }
   },
   "outputs": [],
   "source": [
    "# your code here\n",
    "# raise NotImplementedError\n",
    "ans = \"d\""
   ]
  },
  {
   "cell_type": "code",
   "execution_count": 85,
   "metadata": {
    "deletable": false,
    "editable": false,
    "nbgrader": {
     "cell_type": "code",
     "checksum": "4f6f200a1e0b98c47b7c9319db1f02b7",
     "grade": true,
     "grade_id": "cell-d7146f0b580ad9d1",
     "locked": true,
     "points": 1,
     "schema_version": 3,
     "solution": false,
     "task": false
    }
   },
   "outputs": [],
   "source": [
    "## Question 11 - check to see if ans was created and is type str\n",
    "assert type(ans) == str"
   ]
  },
  {
   "cell_type": "code",
   "execution_count": null,
   "metadata": {
    "deletable": false,
    "editable": false,
    "nbgrader": {
     "cell_type": "code",
     "checksum": "c0409888db989cc8d947e550c06b3a25",
     "grade": true,
     "grade_id": "cell-119ec2d9e68176e0",
     "locked": true,
     "points": 2,
     "schema_version": 3,
     "solution": false,
     "task": false
    }
   },
   "outputs": [],
   "source": []
  }
 ],
 "metadata": {
  "kernelspec": {
   "display_name": "Python 3.10.5 64-bit",
   "language": "python",
   "name": "python3"
  },
  "language_info": {
   "codemirror_mode": {
    "name": "ipython",
    "version": 3
   },
   "file_extension": ".py",
   "mimetype": "text/x-python",
   "name": "python",
   "nbconvert_exporter": "python",
   "pygments_lexer": "ipython3",
   "version": "3.10.5"
  },
  "vscode": {
   "interpreter": {
    "hash": "0001f70bd0e31f227f9ad2270a71ee40b60165743b4b89517a680dc593c4c238"
   }
  }
 },
 "nbformat": 4,
 "nbformat_minor": 2
}
